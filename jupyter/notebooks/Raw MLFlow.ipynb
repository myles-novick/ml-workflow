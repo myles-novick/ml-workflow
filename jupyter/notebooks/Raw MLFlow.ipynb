{
 "cells": [
  {
   "cell_type": "code",
   "execution_count": 1,
   "metadata": {},
   "outputs": [],
   "source": [
    "import mlflow"
   ]
  },
  {
   "cell_type": "code",
   "execution_count": 15,
   "metadata": {},
   "outputs": [],
   "source": [
    "mlflow.set_experiment('Default')"
   ]
  },
  {
   "cell_type": "code",
   "execution_count": 17,
   "metadata": {},
   "outputs": [
    {
     "name": "stdout",
     "output_type": "stream",
     "text": [
      "INFO: 'newexp' does not exist. Creating a new experiment\n"
     ]
    }
   ],
   "source": [
    "import random\n",
    "feature_names = ['price','gender','size','name','height','location','age','weather_type','ror']\n",
    "mlflow.set_experiment('newexp')\n",
    "for i in range(5):\n",
    "    \n",
    "    with mlflow.start_run():\n",
    "        # In-place shuffle\n",
    "        random.shuffle(feature_names)\n",
    "        mlflow.log_param('features', feature_names[:5])\n",
    "        mlflow.log_param('numTrees', 22)\n",
    "        mlflow.log_param('maxDepth', 10)\n",
    "        mlflow.log_param('impurity', 'gini')\n",
    "\n",
    "        mlflow.log_metric('f1',random.random())\n",
    "        mlflow.log_metric('acc',random.random())\n",
    "        mlflow.log_metric('tpr',random.random())\n",
    "        mlflow.log_metric('fnr',random.random())\n",
    "        mlflow.log_metric('tnr',random.random())\n",
    "        mlflow.log_metric('fpr',random.random())\n",
    "        mlflow.log_metric('precision',random.random())\n",
    "        mlflow.log_artifact('Raw MLFlow.ipynb')\n",
    "        mlflow.end_run()\n"
   ]
  },
  {
   "cell_type": "code",
   "execution_count": null,
   "metadata": {},
   "outputs": [],
   "source": []
  }
 ],
 "metadata": {
  "kernelspec": {
   "display_name": "Python 3",
   "language": "python",
   "name": "python3"
  },
  "language_info": {
   "codemirror_mode": {
    "name": "ipython",
    "version": 3
   },
   "file_extension": ".py",
   "mimetype": "text/x-python",
   "name": "python",
   "nbconvert_exporter": "python",
   "pygments_lexer": "ipython3",
   "version": "3.7.3"
  }
 },
 "nbformat": 4,
 "nbformat_minor": 2
}
