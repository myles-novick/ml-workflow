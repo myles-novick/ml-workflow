{
 "cells": [
  {
   "cell_type": "code",
   "execution_count": 1,
   "metadata": {},
   "outputs": [],
   "source": [
    "import mlflow"
   ]
  },
  {
   "cell_type": "code",
   "execution_count": 2,
   "metadata": {},
   "outputs": [
    {
     "name": "stderr",
     "output_type": "stream",
     "text": [
      "/Users/benepstein/.local/lib/python3.7/site-packages/yaml/constructor.py:126: DeprecationWarning: Using or importing the ABCs from 'collections' instead of from 'collections.abc' is deprecated, and in 3.8 it will stop working\n",
      "  if not isinstance(key, collections.Hashable):\n"
     ]
    }
   ],
   "source": [
    "mlflow.set_experiment('Default')"
   ]
  },
  {
   "cell_type": "code",
   "execution_count": 3,
   "metadata": {},
   "outputs": [
    {
     "name": "stdout",
     "output_type": "stream",
     "text": [
      "INFO: 'newexp' does not exist. Creating a new experiment\n"
     ]
    },
    {
     "name": "stderr",
     "output_type": "stream",
     "text": [
      "//anaconda3/lib/python3.7/site-packages/py4j/java_collections.py:13: DeprecationWarning: Using or importing the ABCs from 'collections' instead of from 'collections.abc' is deprecated, and in 3.8 it will stop working\n",
      "  from collections import (\n",
      "//anaconda3/lib/python3.7/site-packages/pyspark/resultiterable.py:23: DeprecationWarning: Using or importing the ABCs from 'collections' instead of from 'collections.abc' is deprecated, and in 3.8 it will stop working\n",
      "  class ResultIterable(collections.Iterable):\n"
     ]
    }
   ],
   "source": [
    "import random\n",
    "feature_names = ['price','gender','size','name','height','location','age','weather_type','ror']\n",
    "mlflow.set_experiment('newexp')\n",
    "for i in range(5):\n",
    "    \n",
    "    with mlflow.start_run():\n",
    "        # In-place shuffle\n",
    "        random.shuffle(feature_names)\n",
    "        mlflow.log_param('features', feature_names[:5])\n",
    "        mlflow.log_param('numTrees', 22)\n",
    "        mlflow.log_param('maxDepth', 10)\n",
    "        mlflow.log_param('impurity', 'gini')\n",
    "\n",
    "        mlflow.log_metric('f1',random.random())\n",
    "        mlflow.log_metric('acc',random.random())\n",
    "        mlflow.log_metric('tpr',random.random())\n",
    "        mlflow.log_metric('fnr',random.random())\n",
    "        mlflow.log_metric('tnr',random.random())\n",
    "        mlflow.log_metric('fpr',random.random())\n",
    "        mlflow.log_metric('precision',random.random())\n",
    "        mlflow.log_artifact('Raw MLFlow.ipynb')\n",
    "        mlflow.end_run()\n"
   ]
  },
  {
   "cell_type": "code",
   "execution_count": null,
   "metadata": {},
   "outputs": [],
   "source": []
  }
 ],
 "metadata": {
  "kernelspec": {
   "display_name": "Python 3",
   "language": "python",
   "name": "python3"
  },
  "language_info": {
   "codemirror_mode": {
    "name": "ipython",
    "version": 3
   },
   "file_extension": ".py",
   "mimetype": "text/x-python",
   "name": "python",
   "nbconvert_exporter": "python",
   "pygments_lexer": "ipython3",
   "version": "3.7.3"
  }
 },
 "nbformat": 4,
 "nbformat_minor": 2
}
